{
 "cells": [
  {
   "cell_type": "markdown",
   "id": "amino-mentor",
   "metadata": {
    "_cell_guid": "b1076dfc-b9ad-4769-8c92-a6c4dae69d19",
    "_uuid": "8f2839f25d086af736a60e9eeb907d3b93b6e0e5",
    "execution": {
     "iopub.execute_input": "2021-07-06T19:15:20.519151Z",
     "iopub.status.busy": "2021-07-06T19:15:20.518775Z",
     "iopub.status.idle": "2021-07-06T19:15:20.530932Z",
     "shell.execute_reply": "2021-07-06T19:15:20.52949Z",
     "shell.execute_reply.started": "2021-07-06T19:15:20.519126Z"
    },
    "papermill": {
     "duration": 0.030315,
     "end_time": "2021-07-26T00:33:38.913720",
     "exception": false,
     "start_time": "2021-07-26T00:33:38.883405",
     "status": "completed"
    },
    "tags": []
   },
   "source": [
    "## Notebook Overview\n",
    "\n",
    "The goal of the notebook is to clean CLRP Data, vectorize the excerpt data and add additional features to the data. The main packages used here are NLTK, regex, and pandas, and sklearn to achieve this.\n",
    "\n",
    "Here are the various processes in this notebook:\n",
    "\n",
    "1. Reading Data\n",
    "2. Clean the Data\n",
    "3. Feature Engineering\n",
    "4. Vectorize data\n",
    "5. Build a model & create baseline predictions"
   ]
  },
  {
   "cell_type": "markdown",
   "id": "eleven-waters",
   "metadata": {
    "papermill": {
     "duration": 0.02669,
     "end_time": "2021-07-26T00:33:38.968666",
     "exception": false,
     "start_time": "2021-07-26T00:33:38.941976",
     "status": "completed"
    },
    "tags": []
   },
   "source": [
    "**Process 1: Reading the data**"
   ]
  },
  {
   "cell_type": "code",
   "execution_count": 1,
   "id": "refined-aurora",
   "metadata": {
    "execution": {
     "iopub.execute_input": "2021-07-26T00:33:39.026914Z",
     "iopub.status.busy": "2021-07-26T00:33:39.025584Z",
     "iopub.status.idle": "2021-07-26T00:33:39.980325Z",
     "shell.execute_reply": "2021-07-26T00:33:39.980939Z",
     "shell.execute_reply.started": "2021-07-26T00:27:32.456270Z"
    },
    "papermill": {
     "duration": 0.985613,
     "end_time": "2021-07-26T00:33:39.981270",
     "exception": false,
     "start_time": "2021-07-26T00:33:38.995657",
     "status": "completed"
    },
    "tags": []
   },
   "outputs": [
    {
     "name": "stdout",
     "output_type": "stream",
     "text": [
      "/kaggle/input/commonlitreadabilityprize/sample_submission.csv\n",
      "/kaggle/input/commonlitreadabilityprize/train.csv\n",
      "/kaggle/input/commonlitreadabilityprize/test.csv\n"
     ]
    }
   ],
   "source": [
    "# This Python 3 environment comes with many helpful analytics libraries installed\n",
    "# It is defined by the kaggle/python Docker image: https://github.com/kaggle/docker-python\n",
    "# For example, here's several helpful packages to load\n",
    "\n",
    "import numpy as np # linear algebra\n",
    "import pandas as pd # data processing, CSV file I/O (e.g. pd.read_csv)\n",
    "from sklearn.metrics import mean_squared_error #Check the r2 error\n",
    "from sklearn.metrics import r2_score #Check the r2 error\n",
    "import numpy as np\n",
    "from sklearn.preprocessing import MinMaxScaler #Perform data scaling\n",
    "from sklearn.model_selection import cross_val_score, GridSearchCV #Cross valdiation scores\n",
    "\n",
    "# Input data files are available in the read-only \"../input/\" directory\n",
    "# For example, running this (by clicking run or pressing Shift+Enter) will list all files under the input directory\n",
    "\n",
    "import os\n",
    "for dirname, _, filenames in os.walk('/kaggle/input'):\n",
    "    for filename in filenames:\n",
    "        print(os.path.join(dirname, filename))\n",
    "\n",
    "# You can write up to 20GB to the current directory (/kaggle/working/) that gets preserved as output when you create a version using \"Save & Run All\" \n",
    "# You can also write temporary files to /kaggle/temp/, but they won't be saved outside of the current session"
   ]
  },
  {
   "cell_type": "markdown",
   "id": "handmade-interface",
   "metadata": {
    "papermill": {
     "duration": 0.027052,
     "end_time": "2021-07-26T00:33:40.036984",
     "exception": false,
     "start_time": "2021-07-26T00:33:40.009932",
     "status": "completed"
    },
    "tags": []
   },
   "source": [
    "Verify that the data import and explore the data by printing the top 3 rows in the dataframe."
   ]
  },
  {
   "cell_type": "code",
   "execution_count": 2,
   "id": "sufficient-mercury",
   "metadata": {
    "execution": {
     "iopub.execute_input": "2021-07-26T00:33:40.098373Z",
     "iopub.status.busy": "2021-07-26T00:33:40.097690Z",
     "iopub.status.idle": "2021-07-26T00:33:40.253505Z",
     "shell.execute_reply": "2021-07-26T00:33:40.252861Z",
     "shell.execute_reply.started": "2021-07-26T00:27:33.306162Z"
    },
    "papermill": {
     "duration": 0.189426,
     "end_time": "2021-07-26T00:33:40.253656",
     "exception": false,
     "start_time": "2021-07-26T00:33:40.064230",
     "status": "completed"
    },
    "tags": []
   },
   "outputs": [
    {
     "data": {
      "text/html": [
       "<div>\n",
       "<style scoped>\n",
       "    .dataframe tbody tr th:only-of-type {\n",
       "        vertical-align: middle;\n",
       "    }\n",
       "\n",
       "    .dataframe tbody tr th {\n",
       "        vertical-align: top;\n",
       "    }\n",
       "\n",
       "    .dataframe thead th {\n",
       "        text-align: right;\n",
       "    }\n",
       "</style>\n",
       "<table border=\"1\" class=\"dataframe\">\n",
       "  <thead>\n",
       "    <tr style=\"text-align: right;\">\n",
       "      <th></th>\n",
       "      <th>id</th>\n",
       "      <th>url_legal</th>\n",
       "      <th>license</th>\n",
       "      <th>excerpt</th>\n",
       "      <th>target</th>\n",
       "      <th>standard_error</th>\n",
       "    </tr>\n",
       "  </thead>\n",
       "  <tbody>\n",
       "    <tr>\n",
       "      <th>0</th>\n",
       "      <td>c12129c31</td>\n",
       "      <td>NaN</td>\n",
       "      <td>NaN</td>\n",
       "      <td>When the young people returned to the ballroom...</td>\n",
       "      <td>-0.340259</td>\n",
       "      <td>0.464009</td>\n",
       "    </tr>\n",
       "    <tr>\n",
       "      <th>1</th>\n",
       "      <td>85aa80a4c</td>\n",
       "      <td>NaN</td>\n",
       "      <td>NaN</td>\n",
       "      <td>All through dinner time, Mrs. Fayre was somewh...</td>\n",
       "      <td>-0.315372</td>\n",
       "      <td>0.480805</td>\n",
       "    </tr>\n",
       "    <tr>\n",
       "      <th>2</th>\n",
       "      <td>b69ac6792</td>\n",
       "      <td>NaN</td>\n",
       "      <td>NaN</td>\n",
       "      <td>As Roger had predicted, the snow departed as q...</td>\n",
       "      <td>-0.580118</td>\n",
       "      <td>0.476676</td>\n",
       "    </tr>\n",
       "  </tbody>\n",
       "</table>\n",
       "</div>"
      ],
      "text/plain": [
       "          id url_legal license  \\\n",
       "0  c12129c31       NaN     NaN   \n",
       "1  85aa80a4c       NaN     NaN   \n",
       "2  b69ac6792       NaN     NaN   \n",
       "\n",
       "                                             excerpt    target  standard_error  \n",
       "0  When the young people returned to the ballroom... -0.340259        0.464009  \n",
       "1  All through dinner time, Mrs. Fayre was somewh... -0.315372        0.480805  \n",
       "2  As Roger had predicted, the snow departed as q... -0.580118        0.476676  "
      ]
     },
     "execution_count": 2,
     "metadata": {},
     "output_type": "execute_result"
    }
   ],
   "source": [
    "train_df=pd.read_csv(os.path.join(dirname, filenames[1]))\n",
    "train_df.head(3)"
   ]
  },
  {
   "cell_type": "code",
   "execution_count": 3,
   "id": "current-exception",
   "metadata": {
    "execution": {
     "iopub.execute_input": "2021-07-26T00:33:40.314259Z",
     "iopub.status.busy": "2021-07-26T00:33:40.313504Z",
     "iopub.status.idle": "2021-07-26T00:33:40.328380Z",
     "shell.execute_reply": "2021-07-26T00:33:40.327849Z",
     "shell.execute_reply.started": "2021-07-26T00:27:33.419161Z"
    },
    "papermill": {
     "duration": 0.047031,
     "end_time": "2021-07-26T00:33:40.328539",
     "exception": false,
     "start_time": "2021-07-26T00:33:40.281508",
     "status": "completed"
    },
    "tags": []
   },
   "outputs": [
    {
     "data": {
      "text/html": [
       "<div>\n",
       "<style scoped>\n",
       "    .dataframe tbody tr th:only-of-type {\n",
       "        vertical-align: middle;\n",
       "    }\n",
       "\n",
       "    .dataframe tbody tr th {\n",
       "        vertical-align: top;\n",
       "    }\n",
       "\n",
       "    .dataframe thead th {\n",
       "        text-align: right;\n",
       "    }\n",
       "</style>\n",
       "<table border=\"1\" class=\"dataframe\">\n",
       "  <thead>\n",
       "    <tr style=\"text-align: right;\">\n",
       "      <th></th>\n",
       "      <th>id</th>\n",
       "      <th>url_legal</th>\n",
       "      <th>license</th>\n",
       "      <th>excerpt</th>\n",
       "    </tr>\n",
       "  </thead>\n",
       "  <tbody>\n",
       "    <tr>\n",
       "      <th>0</th>\n",
       "      <td>c0f722661</td>\n",
       "      <td>NaN</td>\n",
       "      <td>NaN</td>\n",
       "      <td>My hope lay in Jack's promise that he would ke...</td>\n",
       "    </tr>\n",
       "    <tr>\n",
       "      <th>1</th>\n",
       "      <td>f0953f0a5</td>\n",
       "      <td>NaN</td>\n",
       "      <td>NaN</td>\n",
       "      <td>Dotty continued to go to Mrs. Gray's every nig...</td>\n",
       "    </tr>\n",
       "    <tr>\n",
       "      <th>2</th>\n",
       "      <td>0df072751</td>\n",
       "      <td>NaN</td>\n",
       "      <td>NaN</td>\n",
       "      <td>It was a bright and cheerful scene that greete...</td>\n",
       "    </tr>\n",
       "  </tbody>\n",
       "</table>\n",
       "</div>"
      ],
      "text/plain": [
       "          id url_legal license  \\\n",
       "0  c0f722661       NaN     NaN   \n",
       "1  f0953f0a5       NaN     NaN   \n",
       "2  0df072751       NaN     NaN   \n",
       "\n",
       "                                             excerpt  \n",
       "0  My hope lay in Jack's promise that he would ke...  \n",
       "1  Dotty continued to go to Mrs. Gray's every nig...  \n",
       "2  It was a bright and cheerful scene that greete...  "
      ]
     },
     "execution_count": 3,
     "metadata": {},
     "output_type": "execute_result"
    }
   ],
   "source": [
    "test_df=pd.read_csv(os.path.join(dirname, filenames[2]))\n",
    "test_df.head(3)"
   ]
  },
  {
   "cell_type": "code",
   "execution_count": 4,
   "id": "dimensional-antique",
   "metadata": {
    "execution": {
     "iopub.execute_input": "2021-07-26T00:33:40.388860Z",
     "iopub.status.busy": "2021-07-26T00:33:40.387847Z",
     "iopub.status.idle": "2021-07-26T00:33:40.393477Z",
     "shell.execute_reply": "2021-07-26T00:33:40.393995Z",
     "shell.execute_reply.started": "2021-07-26T00:27:33.438225Z"
    },
    "papermill": {
     "duration": 0.037334,
     "end_time": "2021-07-26T00:33:40.394164",
     "exception": false,
     "start_time": "2021-07-26T00:33:40.356830",
     "status": "completed"
    },
    "tags": []
   },
   "outputs": [
    {
     "data": {
      "text/plain": [
       "7"
      ]
     },
     "execution_count": 4,
     "metadata": {},
     "output_type": "execute_result"
    }
   ],
   "source": [
    "len(test_df)"
   ]
  },
  {
   "cell_type": "markdown",
   "id": "dental-public",
   "metadata": {
    "papermill": {
     "duration": 0.027867,
     "end_time": "2021-07-26T00:33:40.450582",
     "exception": false,
     "start_time": "2021-07-26T00:33:40.422715",
     "status": "completed"
    },
    "tags": []
   },
   "source": [
    "**Process 2: Clean the Data**\n",
    "\n",
    "Convert the excerpt into lower case(so that an accurate count of the words can be obtained).\n",
    "Then remove the most frequently occurring words like - 'an', 'the', and 'on'. This list of frequently occurring can be obtained from the NLTK library.\n",
    "\n",
    "**Process 3: Feature engineering**\n",
    "\n",
    "Three new features were created:\n",
    "\n",
    "    1.Average sentence length of the Excerpt \n",
    "    2.Normalized word count\n",
    "    3.Normalized stopword frequency"
   ]
  },
  {
   "cell_type": "code",
   "execution_count": 5,
   "id": "assumed-disclosure",
   "metadata": {
    "execution": {
     "iopub.execute_input": "2021-07-26T00:33:40.511489Z",
     "iopub.status.busy": "2021-07-26T00:33:40.510462Z",
     "iopub.status.idle": "2021-07-26T00:33:43.061716Z",
     "shell.execute_reply": "2021-07-26T00:33:43.062269Z",
     "shell.execute_reply.started": "2021-07-26T00:27:33.446158Z"
    },
    "papermill": {
     "duration": 2.583617,
     "end_time": "2021-07-26T00:33:43.062468",
     "exception": false,
     "start_time": "2021-07-26T00:33:40.478851",
     "status": "completed"
    },
    "tags": []
   },
   "outputs": [],
   "source": [
    "from nltk.corpus import stopwords\n",
    "import spacy\n",
    "import timeit\n",
    "import re\n",
    "\n",
    "\n",
    "nlp = spacy.load('en')\n",
    "punct=\";|!|:|;|,|-|'\"\n",
    "stop=set(stopwords.words('english'))\n",
    "\n",
    "def preprocess_dataframe(df):\n",
    "    #Set a unique Numbering for each exerpt\n",
    "    df=df.reset_index()  \n",
    "    #Average excerpt length\n",
    "    train_df['excerpt_length']=train_df['excerpt'].str.len()\n",
    "    avg_excerpt_len=train_df['excerpt_length'].mean().round(0) #Avg. excerpt length\n",
    "    #Convert all text to lowecase\n",
    "    df['excerpt_preprocess']=df['excerpt'].str.lower()         \n",
    "    #FEATURE ENGINEERING: Get the legth of each excerpt\n",
    "    df['excerpt_actual_length']=df['excerpt_preprocess'].str.len()\n",
    "    #Remove common words from excerpt\n",
    "    df['excerpt_preprocess']=df['excerpt_preprocess'].apply(lambda x: ' '.join([item for item in x.split() if item not in stop]))\n",
    "    #FEATURE ENGINEERING: Get the legth of the preprocessed excerpt\n",
    "    df['excerpt_preprocessed_length']=df['excerpt_preprocess'].str.len()\n",
    "    #FEATURE ENGINEERING: Percent frequent words\n",
    "    df['excerpt_stopword_freq']=(df['excerpt_actual_length']-df['excerpt_preprocessed_length'])/df['excerpt_actual_length']\n",
    "    #FEATURE ENGINEERING: Get count of punctuations in the excerpt\n",
    "    df['excerpt_punct_count']=df['excerpt'].apply(lambda x: len(re.findall(punct, x)))\n",
    "    #Convert excerpt into setences\n",
    "    df['excerpt_sentence'] = df['excerpt_preprocess'].apply(lambda x: list(nlp(x).sents))\n",
    "    #Convert each setence of the exerpt into a pandas row\n",
    "    df=df.explode('excerpt_sentence')\n",
    "    #Convert spacy object to string object\n",
    "    df['excerpt_sentence']=df['excerpt_sentence'].apply(lambda x: x.text)    \n",
    "    ##FEATURE ENGINEERING: Get sentence length\n",
    "    df['sentence_length']=df['excerpt_sentence'].str.len()\n",
    "    ##FEATURE ENGINEERING: Get word count\n",
    "    df['totalwords'] = df['excerpt_sentence'].str.split().map(len)\n",
    "    ##FEATURE ENGINEERING: Get normalized word count\n",
    "    df['normalized_word_count'] = round(df['sentence_length']/df['totalwords'],2)\n",
    "    ##FEATURE ENGINEERING: Get normalized stopword frequency\n",
    "    df['normalized_stopword_freq']=round(df['excerpt_stopword_freq']*avg_excerpt_len,1)\n",
    "    ##FEATURE ENGINEERING: Get average senetence length\n",
    "    df['avg sent length']=df[['sentence_length', 'index']].groupby(['index']).agg(['median'])\n",
    "    ##FEATURE ENGINEERING: Get average senetence length\n",
    "    df=df[['index','id','excerpt','excerpt_preprocess','avg sent length','normalized_word_count','normalized_stopword_freq']].drop_duplicates(subset ='index').set_index('index')\n",
    "    return df"
   ]
  },
  {
   "cell_type": "markdown",
   "id": "consistent-neutral",
   "metadata": {
    "papermill": {
     "duration": 0.028225,
     "end_time": "2021-07-26T00:33:43.119941",
     "exception": false,
     "start_time": "2021-07-26T00:33:43.091716",
     "status": "completed"
    },
    "tags": []
   },
   "source": [
    "Call the above function to - clean and generate features for the train data"
   ]
  },
  {
   "cell_type": "code",
   "execution_count": 6,
   "id": "ordinary-jacob",
   "metadata": {
    "execution": {
     "iopub.execute_input": "2021-07-26T00:33:43.197986Z",
     "iopub.status.busy": "2021-07-26T00:33:43.197120Z",
     "iopub.status.idle": "2021-07-26T00:34:55.891298Z",
     "shell.execute_reply": "2021-07-26T00:34:55.891827Z",
     "shell.execute_reply.started": "2021-07-26T00:27:35.952968Z"
    },
    "papermill": {
     "duration": 72.742792,
     "end_time": "2021-07-26T00:34:55.892021",
     "exception": false,
     "start_time": "2021-07-26T00:33:43.149229",
     "status": "completed"
    },
    "tags": []
   },
   "outputs": [
    {
     "name": "stdout",
     "output_type": "stream",
     "text": [
      "Execution Time:  72\n",
      "Dataframe length:  2834\n"
     ]
    }
   ],
   "source": [
    "from datetime import datetime\n",
    "\n",
    "now = datetime.now()\n",
    "target=train_df['target']\n",
    "train_df=preprocess_dataframe(train_df)\n",
    "train_df['target']=target\n",
    "later = datetime.now()\n",
    "difference = int((later - now).total_seconds())\n",
    "\n",
    "print(\"Execution Time: \",difference)\n",
    "print(\"Dataframe length: \",len(train_df))"
   ]
  },
  {
   "cell_type": "code",
   "execution_count": 7,
   "id": "desirable-learning",
   "metadata": {
    "execution": {
     "iopub.execute_input": "2021-07-26T00:34:55.963571Z",
     "iopub.status.busy": "2021-07-26T00:34:55.962604Z",
     "iopub.status.idle": "2021-07-26T00:34:55.967023Z",
     "shell.execute_reply": "2021-07-26T00:34:55.966494Z",
     "shell.execute_reply.started": "2021-07-26T00:28:42.782858Z"
    },
    "papermill": {
     "duration": 0.046559,
     "end_time": "2021-07-26T00:34:55.967164",
     "exception": false,
     "start_time": "2021-07-26T00:34:55.920605",
     "status": "completed"
    },
    "tags": []
   },
   "outputs": [
    {
     "data": {
      "text/html": [
       "<div>\n",
       "<style scoped>\n",
       "    .dataframe tbody tr th:only-of-type {\n",
       "        vertical-align: middle;\n",
       "    }\n",
       "\n",
       "    .dataframe tbody tr th {\n",
       "        vertical-align: top;\n",
       "    }\n",
       "\n",
       "    .dataframe thead th {\n",
       "        text-align: right;\n",
       "    }\n",
       "</style>\n",
       "<table border=\"1\" class=\"dataframe\">\n",
       "  <thead>\n",
       "    <tr style=\"text-align: right;\">\n",
       "      <th></th>\n",
       "      <th>id</th>\n",
       "      <th>excerpt</th>\n",
       "      <th>excerpt_preprocess</th>\n",
       "      <th>avg sent length</th>\n",
       "      <th>normalized_word_count</th>\n",
       "      <th>normalized_stopword_freq</th>\n",
       "      <th>target</th>\n",
       "    </tr>\n",
       "    <tr>\n",
       "      <th>index</th>\n",
       "      <th></th>\n",
       "      <th></th>\n",
       "      <th></th>\n",
       "      <th></th>\n",
       "      <th></th>\n",
       "      <th></th>\n",
       "      <th></th>\n",
       "    </tr>\n",
       "  </thead>\n",
       "  <tbody>\n",
       "    <tr>\n",
       "      <th>0</th>\n",
       "      <td>c12129c31</td>\n",
       "      <td>When the young people returned to the ballroom...</td>\n",
       "      <td>young people returned ballroom, presented deci...</td>\n",
       "      <td>48.5</td>\n",
       "      <td>8.88</td>\n",
       "      <td>342.9</td>\n",
       "      <td>-0.340259</td>\n",
       "    </tr>\n",
       "    <tr>\n",
       "      <th>1</th>\n",
       "      <td>85aa80a4c</td>\n",
       "      <td>All through dinner time, Mrs. Fayre was somewh...</td>\n",
       "      <td>dinner time, mrs. fayre somewhat silent, eyes ...</td>\n",
       "      <td>23.0</td>\n",
       "      <td>7.50</td>\n",
       "      <td>294.6</td>\n",
       "      <td>-0.315372</td>\n",
       "    </tr>\n",
       "    <tr>\n",
       "      <th>2</th>\n",
       "      <td>b69ac6792</td>\n",
       "      <td>As Roger had predicted, the snow departed as q...</td>\n",
       "      <td>roger predicted, snow departed quickly came, t...</td>\n",
       "      <td>55.5</td>\n",
       "      <td>6.86</td>\n",
       "      <td>315.8</td>\n",
       "      <td>-0.580118</td>\n",
       "    </tr>\n",
       "  </tbody>\n",
       "</table>\n",
       "</div>"
      ],
      "text/plain": [
       "              id                                            excerpt  \\\n",
       "index                                                                 \n",
       "0      c12129c31  When the young people returned to the ballroom...   \n",
       "1      85aa80a4c  All through dinner time, Mrs. Fayre was somewh...   \n",
       "2      b69ac6792  As Roger had predicted, the snow departed as q...   \n",
       "\n",
       "                                      excerpt_preprocess  avg sent length  \\\n",
       "index                                                                       \n",
       "0      young people returned ballroom, presented deci...             48.5   \n",
       "1      dinner time, mrs. fayre somewhat silent, eyes ...             23.0   \n",
       "2      roger predicted, snow departed quickly came, t...             55.5   \n",
       "\n",
       "       normalized_word_count  normalized_stopword_freq    target  \n",
       "index                                                             \n",
       "0                       8.88                     342.9 -0.340259  \n",
       "1                       7.50                     294.6 -0.315372  \n",
       "2                       6.86                     315.8 -0.580118  "
      ]
     },
     "execution_count": 7,
     "metadata": {},
     "output_type": "execute_result"
    }
   ],
   "source": [
    "train_df.head(3)"
   ]
  },
  {
   "cell_type": "code",
   "execution_count": 8,
   "id": "suitable-defense",
   "metadata": {
    "execution": {
     "iopub.execute_input": "2021-07-26T00:34:56.032256Z",
     "iopub.status.busy": "2021-07-26T00:34:56.031319Z",
     "iopub.status.idle": "2021-07-26T00:34:56.035712Z",
     "shell.execute_reply": "2021-07-26T00:34:56.035127Z",
     "shell.execute_reply.started": "2021-07-26T00:28:42.798337Z"
    },
    "papermill": {
     "duration": 0.039563,
     "end_time": "2021-07-26T00:34:56.035856",
     "exception": false,
     "start_time": "2021-07-26T00:34:55.996293",
     "status": "completed"
    },
    "tags": []
   },
   "outputs": [
    {
     "data": {
      "text/plain": [
       "index\n",
       "0   -0.340259\n",
       "1   -0.315372\n",
       "2   -0.580118\n",
       "3   -1.054013\n",
       "4    0.247197\n",
       "Name: target, dtype: float64"
      ]
     },
     "execution_count": 8,
     "metadata": {},
     "output_type": "execute_result"
    }
   ],
   "source": [
    "train_df['target'].head()"
   ]
  },
  {
   "cell_type": "code",
   "execution_count": 9,
   "id": "olive-relay",
   "metadata": {
    "execution": {
     "iopub.execute_input": "2021-07-26T00:34:56.100130Z",
     "iopub.status.busy": "2021-07-26T00:34:56.099162Z",
     "iopub.status.idle": "2021-07-26T00:34:56.103370Z",
     "shell.execute_reply": "2021-07-26T00:34:56.102769Z",
     "shell.execute_reply.started": "2021-07-26T00:28:42.813016Z"
    },
    "papermill": {
     "duration": 0.037972,
     "end_time": "2021-07-26T00:34:56.103504",
     "exception": false,
     "start_time": "2021-07-26T00:34:56.065532",
     "status": "completed"
    },
    "tags": []
   },
   "outputs": [
    {
     "data": {
      "text/plain": [
       "2834"
      ]
     },
     "execution_count": 9,
     "metadata": {},
     "output_type": "execute_result"
    }
   ],
   "source": [
    "len(train_df)"
   ]
  },
  {
   "cell_type": "markdown",
   "id": "freelance-netherlands",
   "metadata": {
    "papermill": {
     "duration": 0.029361,
     "end_time": "2021-07-26T00:34:56.163502",
     "exception": false,
     "start_time": "2021-07-26T00:34:56.134141",
     "status": "completed"
    },
    "tags": []
   },
   "source": [
    "**Process 4: Vectorize the Data**\n",
    "\n",
    "Convert the excerpt into a sparse matrix using TFIDF."
   ]
  },
  {
   "cell_type": "code",
   "execution_count": 10,
   "id": "behind-brighton",
   "metadata": {
    "execution": {
     "iopub.execute_input": "2021-07-26T00:34:56.263857Z",
     "iopub.status.busy": "2021-07-26T00:34:56.258100Z",
     "iopub.status.idle": "2021-07-26T00:34:58.728793Z",
     "shell.execute_reply": "2021-07-26T00:34:58.728228Z",
     "shell.execute_reply.started": "2021-07-26T00:28:42.822805Z"
    },
    "papermill": {
     "duration": 2.535154,
     "end_time": "2021-07-26T00:34:58.728952",
     "exception": false,
     "start_time": "2021-07-26T00:34:56.193798",
     "status": "completed"
    },
    "tags": []
   },
   "outputs": [],
   "source": [
    "from sklearn.feature_extraction.text import TfidfVectorizer\n",
    "v = TfidfVectorizer()\n",
    "x= v.fit_transform(train_df['excerpt'])\n",
    "df1 = pd.DataFrame(x.toarray())\n",
    "train_df_x=train_df[['avg sent length','normalized_word_count','normalized_stopword_freq']]\n",
    "train_df_x = pd.concat([train_df_x, df1], axis = 1)"
   ]
  },
  {
   "cell_type": "markdown",
   "id": "spatial-still",
   "metadata": {
    "papermill": {
     "duration": 0.029368,
     "end_time": "2021-07-26T00:34:58.787914",
     "exception": false,
     "start_time": "2021-07-26T00:34:58.758546",
     "status": "completed"
    },
    "tags": []
   },
   "source": [
    "**Normalize the data**"
   ]
  },
  {
   "cell_type": "code",
   "execution_count": 11,
   "id": "otherwise-valley",
   "metadata": {
    "_kg_hide-input": true,
    "execution": {
     "iopub.execute_input": "2021-07-26T00:34:58.854778Z",
     "iopub.status.busy": "2021-07-26T00:34:58.854095Z",
     "iopub.status.idle": "2021-07-26T00:35:00.493011Z",
     "shell.execute_reply": "2021-07-26T00:35:00.492427Z",
     "shell.execute_reply.started": "2021-07-26T00:28:45.214597Z"
    },
    "papermill": {
     "duration": 1.675375,
     "end_time": "2021-07-26T00:35:00.493167",
     "exception": false,
     "start_time": "2021-07-26T00:34:58.817792",
     "status": "completed"
    },
    "tags": []
   },
   "outputs": [],
   "source": [
    "scaler = MinMaxScaler()\n",
    "train_df_x = scaler.fit_transform(train_df_x)"
   ]
  },
  {
   "cell_type": "code",
   "execution_count": 12,
   "id": "hispanic-fleet",
   "metadata": {
    "execution": {
     "iopub.execute_input": "2021-07-26T00:35:00.559062Z",
     "iopub.status.busy": "2021-07-26T00:35:00.558366Z",
     "iopub.status.idle": "2021-07-26T00:35:00.561444Z",
     "shell.execute_reply": "2021-07-26T00:35:00.561997Z",
     "shell.execute_reply.started": "2021-07-26T00:28:46.825818Z"
    },
    "papermill": {
     "duration": 0.03907,
     "end_time": "2021-07-26T00:35:00.562170",
     "exception": false,
     "start_time": "2021-07-26T00:35:00.523100",
     "status": "completed"
    },
    "tags": []
   },
   "outputs": [
    {
     "data": {
      "text/plain": [
       "array([[0.1       , 0.7       , 0.62314286, ..., 0.        , 0.        ,\n",
       "        0.        ],\n",
       "       [0.03780488, 0.53571429, 0.48514286, ..., 0.        , 0.        ,\n",
       "        0.        ],\n",
       "       [0.11707317, 0.45952381, 0.54571429, ..., 0.        , 0.        ,\n",
       "        0.        ],\n",
       "       ...,\n",
       "       [0.04756098, 0.47619048, 0.82857143, ..., 0.        , 0.        ,\n",
       "        0.        ],\n",
       "       [0.09390244, 0.50595238, 0.61428571, ..., 0.        , 0.        ,\n",
       "        0.        ],\n",
       "       [0.07926829, 0.35714286, 0.45314286, ..., 0.        , 0.        ,\n",
       "        0.        ]])"
      ]
     },
     "execution_count": 12,
     "metadata": {},
     "output_type": "execute_result"
    }
   ],
   "source": [
    "train_df_x"
   ]
  },
  {
   "cell_type": "markdown",
   "id": "adolescent-occasions",
   "metadata": {
    "papermill": {
     "duration": 0.029585,
     "end_time": "2021-07-26T00:35:00.623541",
     "exception": false,
     "start_time": "2021-07-26T00:35:00.593956",
     "status": "completed"
    },
    "tags": []
   },
   "source": [
    "**Process 5: Model building & Prediction**\n",
    "\n",
    "Define the baseline model for the prediction."
   ]
  },
  {
   "cell_type": "code",
   "execution_count": 13,
   "id": "primary-carol",
   "metadata": {
    "execution": {
     "iopub.execute_input": "2021-07-26T00:35:00.687903Z",
     "iopub.status.busy": "2021-07-26T00:35:00.687192Z",
     "iopub.status.idle": "2021-07-26T00:35:00.823627Z",
     "shell.execute_reply": "2021-07-26T00:35:00.822905Z",
     "shell.execute_reply.started": "2021-07-26T00:28:46.834182Z"
    },
    "papermill": {
     "duration": 0.170489,
     "end_time": "2021-07-26T00:35:00.823774",
     "exception": false,
     "start_time": "2021-07-26T00:35:00.653285",
     "status": "completed"
    },
    "tags": []
   },
   "outputs": [],
   "source": [
    "from sklearn.ensemble import RandomForestRegressor\n",
    "\n",
    "now = datetime.now()\n",
    "regr = RandomForestRegressor(random_state=0)"
   ]
  },
  {
   "cell_type": "code",
   "execution_count": 14,
   "id": "sustained-cornell",
   "metadata": {
    "execution": {
     "iopub.execute_input": "2021-07-26T00:35:00.890270Z",
     "iopub.status.busy": "2021-07-26T00:35:00.889331Z",
     "iopub.status.idle": "2021-07-26T00:35:00.896011Z",
     "shell.execute_reply": "2021-07-26T00:35:00.896670Z",
     "shell.execute_reply.started": "2021-07-26T00:28:46.954882Z"
    },
    "papermill": {
     "duration": 0.042272,
     "end_time": "2021-07-26T00:35:00.896884",
     "exception": false,
     "start_time": "2021-07-26T00:35:00.854612",
     "status": "completed"
    },
    "tags": []
   },
   "outputs": [
    {
     "data": {
      "text/plain": [
       "RandomForestRegressor(random_state=0)"
      ]
     },
     "execution_count": 14,
     "metadata": {},
     "output_type": "execute_result"
    }
   ],
   "source": [
    "regr"
   ]
  },
  {
   "cell_type": "markdown",
   "id": "modified-corporation",
   "metadata": {
    "papermill": {
     "duration": 0.030816,
     "end_time": "2021-07-26T00:35:00.959051",
     "exception": false,
     "start_time": "2021-07-26T00:35:00.928235",
     "status": "completed"
    },
    "tags": []
   },
   "source": [
    "**Fit the model using the features and the target score**"
   ]
  },
  {
   "cell_type": "code",
   "execution_count": 15,
   "id": "stuffed-forge",
   "metadata": {
    "execution": {
     "iopub.execute_input": "2021-07-26T00:35:01.025037Z",
     "iopub.status.busy": "2021-07-26T00:35:01.024295Z",
     "iopub.status.idle": "2021-07-26T00:38:55.181770Z",
     "shell.execute_reply": "2021-07-26T00:38:55.182284Z",
     "shell.execute_reply.started": "2021-07-26T00:28:46.962395Z"
    },
    "papermill": {
     "duration": 234.193112,
     "end_time": "2021-07-26T00:38:55.182535",
     "exception": false,
     "start_time": "2021-07-26T00:35:00.989423",
     "status": "completed"
    },
    "tags": []
   },
   "outputs": [
    {
     "data": {
      "text/plain": [
       "RandomForestRegressor(random_state=0)"
      ]
     },
     "execution_count": 15,
     "metadata": {},
     "output_type": "execute_result"
    }
   ],
   "source": [
    "regr.fit(train_df_x, train_df['target'])"
   ]
  },
  {
   "cell_type": "code",
   "execution_count": 16,
   "id": "atomic-bidder",
   "metadata": {
    "execution": {
     "iopub.execute_input": "2021-07-26T00:38:55.249300Z",
     "iopub.status.busy": "2021-07-26T00:38:55.248572Z",
     "iopub.status.idle": "2021-07-26T00:38:55.536081Z",
     "shell.execute_reply": "2021-07-26T00:38:55.535482Z",
     "shell.execute_reply.started": "2021-07-26T00:32:31.791115Z"
    },
    "papermill": {
     "duration": 0.322615,
     "end_time": "2021-07-26T00:38:55.536233",
     "exception": false,
     "start_time": "2021-07-26T00:38:55.213618",
     "status": "completed"
    },
    "tags": []
   },
   "outputs": [],
   "source": [
    "#Get the predicted target scores\n",
    "y_train_predict=regr.predict(train_df_x)"
   ]
  },
  {
   "cell_type": "markdown",
   "id": "solar-dayton",
   "metadata": {
    "papermill": {
     "duration": 0.030648,
     "end_time": "2021-07-26T00:38:55.597730",
     "exception": false,
     "start_time": "2021-07-26T00:38:55.567082",
     "status": "completed"
    },
    "tags": []
   },
   "source": [
    "**Get the rmse Score of the model.**"
   ]
  },
  {
   "cell_type": "code",
   "execution_count": 17,
   "id": "genuine-offense",
   "metadata": {
    "execution": {
     "iopub.execute_input": "2021-07-26T00:38:55.665991Z",
     "iopub.status.busy": "2021-07-26T00:38:55.664007Z",
     "iopub.status.idle": "2021-07-26T00:38:56.665494Z",
     "shell.execute_reply": "2021-07-26T00:38:56.666025Z",
     "shell.execute_reply.started": "2021-07-26T00:32:32.111052Z"
    },
    "papermill": {
     "duration": 1.037945,
     "end_time": "2021-07-26T00:38:56.666201",
     "exception": false,
     "start_time": "2021-07-26T00:38:55.628256",
     "status": "completed"
    },
    "tags": []
   },
   "outputs": [
    {
     "data": {
      "text/plain": [
       "array([-0.28067115, -0.26690455, -0.28101484])"
      ]
     },
     "execution_count": 17,
     "metadata": {},
     "output_type": "execute_result"
    }
   ],
   "source": [
    "#Cross validation r2 score\n",
    "scores = cross_val_score(regr, y_train_predict.reshape(-1, 1), train_df['target'], cv=3, scoring='neg_root_mean_squared_error')\n",
    "scores"
   ]
  },
  {
   "cell_type": "code",
   "execution_count": 18,
   "id": "weird-nancy",
   "metadata": {
    "execution": {
     "iopub.execute_input": "2021-07-26T00:38:56.733996Z",
     "iopub.status.busy": "2021-07-26T00:38:56.733327Z",
     "iopub.status.idle": "2021-07-26T00:38:56.738550Z",
     "shell.execute_reply": "2021-07-26T00:38:56.737925Z",
     "shell.execute_reply.started": "2021-07-26T00:32:33.159586Z"
    },
    "papermill": {
     "duration": 0.041623,
     "end_time": "2021-07-26T00:38:56.738698",
     "exception": false,
     "start_time": "2021-07-26T00:38:56.697075",
     "status": "completed"
    },
    "tags": []
   },
   "outputs": [
    {
     "data": {
      "text/plain": [
       "0.299"
      ]
     },
     "execution_count": 18,
     "metadata": {},
     "output_type": "execute_result"
    }
   ],
   "source": [
    "#r2_score(y_train_predict, train_df['target'])\n",
    "round(np.sqrt(mean_squared_error(y_train_predict, train_df['target'])),3)"
   ]
  },
  {
   "cell_type": "code",
   "execution_count": 19,
   "id": "solar-blend",
   "metadata": {
    "execution": {
     "iopub.execute_input": "2021-07-26T00:38:56.808173Z",
     "iopub.status.busy": "2021-07-26T00:38:56.807444Z",
     "iopub.status.idle": "2021-07-26T00:38:56.812067Z",
     "shell.execute_reply": "2021-07-26T00:38:56.811480Z",
     "shell.execute_reply.started": "2021-07-26T00:33:17.703113Z"
    },
    "papermill": {
     "duration": 0.042059,
     "end_time": "2021-07-26T00:38:56.812216",
     "exception": false,
     "start_time": "2021-07-26T00:38:56.770157",
     "status": "completed"
    },
    "tags": []
   },
   "outputs": [
    {
     "data": {
      "text/plain": [
       "0.8653741147982421"
      ]
     },
     "execution_count": 19,
     "metadata": {},
     "output_type": "execute_result"
    }
   ],
   "source": [
    "r2_score(y_train_predict, train_df['target'])"
   ]
  },
  {
   "cell_type": "markdown",
   "id": "spread-squad",
   "metadata": {
    "papermill": {
     "duration": 0.031299,
     "end_time": "2021-07-26T00:38:56.876944",
     "exception": false,
     "start_time": "2021-07-26T00:38:56.845645",
     "status": "completed"
    },
    "tags": []
   },
   "source": [
    "**Get the execution time of the prediction model**"
   ]
  },
  {
   "cell_type": "code",
   "execution_count": 20,
   "id": "disciplinary-suspension",
   "metadata": {
    "execution": {
     "iopub.execute_input": "2021-07-26T00:38:56.946162Z",
     "iopub.status.busy": "2021-07-26T00:38:56.945370Z",
     "iopub.status.idle": "2021-07-26T00:38:56.948575Z",
     "shell.execute_reply": "2021-07-26T00:38:56.949107Z",
     "shell.execute_reply.started": "2021-07-26T00:32:33.166881Z"
    },
    "papermill": {
     "duration": 0.040442,
     "end_time": "2021-07-26T00:38:56.949285",
     "exception": false,
     "start_time": "2021-07-26T00:38:56.908843",
     "status": "completed"
    },
    "tags": []
   },
   "outputs": [
    {
     "name": "stdout",
     "output_type": "stream",
     "text": [
      "Sklearn execution time:  236\n"
     ]
    }
   ],
   "source": [
    "later = datetime.now()\n",
    "difference = int((later - now).total_seconds())\n",
    "print(\"Sklearn execution time: \",difference)"
   ]
  },
  {
   "cell_type": "markdown",
   "id": "warming-birthday",
   "metadata": {
    "papermill": {
     "duration": 0.031984,
     "end_time": "2021-07-26T00:38:57.013202",
     "exception": false,
     "start_time": "2021-07-26T00:38:56.981218",
     "status": "completed"
    },
    "tags": []
   },
   "source": [
    "**Preprocess the test data and get the test scores**"
   ]
  },
  {
   "cell_type": "code",
   "execution_count": 21,
   "id": "bound-leather",
   "metadata": {
    "execution": {
     "iopub.execute_input": "2021-07-26T00:38:57.096393Z",
     "iopub.status.busy": "2021-07-26T00:38:57.095719Z",
     "iopub.status.idle": "2021-07-26T00:38:57.296972Z",
     "shell.execute_reply": "2021-07-26T00:38:57.296418Z",
     "shell.execute_reply.started": "2021-07-26T00:32:33.183416Z"
    },
    "papermill": {
     "duration": 0.252016,
     "end_time": "2021-07-26T00:38:57.297109",
     "exception": false,
     "start_time": "2021-07-26T00:38:57.045093",
     "status": "completed"
    },
    "tags": []
   },
   "outputs": [
    {
     "name": "stdout",
     "output_type": "stream",
     "text": [
      "Execution Time:  0\n",
      "Dataframe length:  7\n"
     ]
    }
   ],
   "source": [
    "now = datetime.now()\n",
    "test_df=preprocess_dataframe(test_df)\n",
    "later = datetime.now()\n",
    "difference = int((later - now).total_seconds())\n",
    "\n",
    "print(\"Execution Time: \",difference)\n",
    "print(\"Dataframe length: \",len(test_df))"
   ]
  },
  {
   "cell_type": "code",
   "execution_count": 22,
   "id": "frozen-receptor",
   "metadata": {
    "execution": {
     "iopub.execute_input": "2021-07-26T00:38:57.370058Z",
     "iopub.status.busy": "2021-07-26T00:38:57.369358Z",
     "iopub.status.idle": "2021-07-26T00:38:57.626151Z",
     "shell.execute_reply": "2021-07-26T00:38:57.625570Z",
     "shell.execute_reply.started": "2021-07-26T00:32:33.404716Z"
    },
    "papermill": {
     "duration": 0.297018,
     "end_time": "2021-07-26T00:38:57.626291",
     "exception": false,
     "start_time": "2021-07-26T00:38:57.329273",
     "status": "completed"
    },
    "tags": []
   },
   "outputs": [],
   "source": [
    "x_test= v.transform(test_df['excerpt'])\n",
    "df1 = pd.DataFrame(x_test.toarray())\n",
    "test_df_x=test_df[['avg sent length','normalized_word_count','normalized_stopword_freq']]\n",
    "test_df_x = pd.concat([test_df_x, df1], axis = 1)\n",
    "test_df_x = scaler.transform(test_df_x)"
   ]
  },
  {
   "cell_type": "code",
   "execution_count": 23,
   "id": "deadly-shopping",
   "metadata": {
    "execution": {
     "iopub.execute_input": "2021-07-26T00:38:57.697969Z",
     "iopub.status.busy": "2021-07-26T00:38:57.697022Z",
     "iopub.status.idle": "2021-07-26T00:38:57.712087Z",
     "shell.execute_reply": "2021-07-26T00:38:57.711556Z",
     "shell.execute_reply.started": "2021-07-26T00:32:33.660118Z"
    },
    "papermill": {
     "duration": 0.053262,
     "end_time": "2021-07-26T00:38:57.712231",
     "exception": false,
     "start_time": "2021-07-26T00:38:57.658969",
     "status": "completed"
    },
    "tags": []
   },
   "outputs": [
    {
     "name": "stdout",
     "output_type": "stream",
     "text": [
      "(7,)\n",
      "<class 'numpy.ndarray'>\n"
     ]
    }
   ],
   "source": [
    "y_test_predict = regr.predict(test_df_x)\n",
    "ids = test_df['id']\n",
    "\n",
    "print(y_test_predict.shape)\n",
    "print(type(y_test_predict))"
   ]
  },
  {
   "cell_type": "code",
   "execution_count": 24,
   "id": "limiting-saint",
   "metadata": {
    "execution": {
     "iopub.execute_input": "2021-07-26T00:38:57.783846Z",
     "iopub.status.busy": "2021-07-26T00:38:57.783170Z",
     "iopub.status.idle": "2021-07-26T00:38:57.790950Z",
     "shell.execute_reply": "2021-07-26T00:38:57.789759Z",
     "shell.execute_reply.started": "2021-07-26T00:32:33.678172Z"
    },
    "papermill": {
     "duration": 0.046017,
     "end_time": "2021-07-26T00:38:57.791102",
     "exception": false,
     "start_time": "2021-07-26T00:38:57.745085",
     "status": "completed"
    },
    "tags": []
   },
   "outputs": [],
   "source": [
    "submission_df = pd.DataFrame({'id': ids, 'target': y_test_predict})\n",
    "submission_df.to_csv('/kaggle/working/submission.csv', index=False)"
   ]
  },
  {
   "cell_type": "code",
   "execution_count": 25,
   "id": "separate-basket",
   "metadata": {
    "execution": {
     "iopub.execute_input": "2021-07-26T00:38:57.867098Z",
     "iopub.status.busy": "2021-07-26T00:38:57.866265Z",
     "iopub.status.idle": "2021-07-26T00:38:57.870775Z",
     "shell.execute_reply": "2021-07-26T00:38:57.870200Z",
     "shell.execute_reply.started": "2021-07-26T00:32:33.687810Z"
    },
    "papermill": {
     "duration": 0.046263,
     "end_time": "2021-07-26T00:38:57.870920",
     "exception": false,
     "start_time": "2021-07-26T00:38:57.824657",
     "status": "completed"
    },
    "tags": []
   },
   "outputs": [
    {
     "data": {
      "text/html": [
       "<div>\n",
       "<style scoped>\n",
       "    .dataframe tbody tr th:only-of-type {\n",
       "        vertical-align: middle;\n",
       "    }\n",
       "\n",
       "    .dataframe tbody tr th {\n",
       "        vertical-align: top;\n",
       "    }\n",
       "\n",
       "    .dataframe thead th {\n",
       "        text-align: right;\n",
       "    }\n",
       "</style>\n",
       "<table border=\"1\" class=\"dataframe\">\n",
       "  <thead>\n",
       "    <tr style=\"text-align: right;\">\n",
       "      <th></th>\n",
       "      <th>id</th>\n",
       "      <th>target</th>\n",
       "    </tr>\n",
       "    <tr>\n",
       "      <th>index</th>\n",
       "      <th></th>\n",
       "      <th></th>\n",
       "    </tr>\n",
       "  </thead>\n",
       "  <tbody>\n",
       "    <tr>\n",
       "      <th>0</th>\n",
       "      <td>c0f722661</td>\n",
       "      <td>-1.192609</td>\n",
       "    </tr>\n",
       "    <tr>\n",
       "      <th>1</th>\n",
       "      <td>f0953f0a5</td>\n",
       "      <td>-0.500617</td>\n",
       "    </tr>\n",
       "    <tr>\n",
       "      <th>2</th>\n",
       "      <td>0df072751</td>\n",
       "      <td>-0.553543</td>\n",
       "    </tr>\n",
       "    <tr>\n",
       "      <th>3</th>\n",
       "      <td>04caf4e0c</td>\n",
       "      <td>-1.225221</td>\n",
       "    </tr>\n",
       "    <tr>\n",
       "      <th>4</th>\n",
       "      <td>0e63f8bea</td>\n",
       "      <td>-1.496887</td>\n",
       "    </tr>\n",
       "    <tr>\n",
       "      <th>5</th>\n",
       "      <td>12537fe78</td>\n",
       "      <td>-0.830757</td>\n",
       "    </tr>\n",
       "    <tr>\n",
       "      <th>6</th>\n",
       "      <td>965e592c0</td>\n",
       "      <td>0.030365</td>\n",
       "    </tr>\n",
       "  </tbody>\n",
       "</table>\n",
       "</div>"
      ],
      "text/plain": [
       "              id    target\n",
       "index                     \n",
       "0      c0f722661 -1.192609\n",
       "1      f0953f0a5 -0.500617\n",
       "2      0df072751 -0.553543\n",
       "3      04caf4e0c -1.225221\n",
       "4      0e63f8bea -1.496887\n",
       "5      12537fe78 -0.830757\n",
       "6      965e592c0  0.030365"
      ]
     },
     "execution_count": 25,
     "metadata": {},
     "output_type": "execute_result"
    }
   ],
   "source": [
    "submission_df"
   ]
  },
  {
   "cell_type": "code",
   "execution_count": null,
   "id": "small-beverage",
   "metadata": {
    "papermill": {
     "duration": 0.033069,
     "end_time": "2021-07-26T00:38:57.937706",
     "exception": false,
     "start_time": "2021-07-26T00:38:57.904637",
     "status": "completed"
    },
    "tags": []
   },
   "outputs": [],
   "source": []
  }
 ],
 "metadata": {
  "kernelspec": {
   "display_name": "Python 3",
   "language": "python",
   "name": "python3"
  },
  "language_info": {
   "codemirror_mode": {
    "name": "ipython",
    "version": 3
   },
   "file_extension": ".py",
   "mimetype": "text/x-python",
   "name": "python",
   "nbconvert_exporter": "python",
   "pygments_lexer": "ipython3",
   "version": "3.7.10"
  },
  "papermill": {
   "default_parameters": {},
   "duration": 328.980441,
   "end_time": "2021-07-26T00:38:59.808406",
   "environment_variables": {},
   "exception": null,
   "input_path": "__notebook__.ipynb",
   "output_path": "__notebook__.ipynb",
   "parameters": {},
   "start_time": "2021-07-26T00:33:30.827965",
   "version": "2.3.3"
  }
 },
 "nbformat": 4,
 "nbformat_minor": 5
}
